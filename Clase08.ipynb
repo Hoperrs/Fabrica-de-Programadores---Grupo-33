{
  "nbformat": 4,
  "nbformat_minor": 0,
  "metadata": {
    "colab": {
      "provenance": []
    },
    "kernelspec": {
      "name": "python3",
      "display_name": "Python 3"
    },
    "language_info": {
      "name": "python"
    }
  },
  "cells": [
    {
      "cell_type": "code",
      "execution_count": 4,
      "metadata": {
        "colab": {
          "base_uri": "https://localhost:8080/"
        },
        "id": "3jjsC0i8SVdQ",
        "outputId": "a0ab3582-cc83-4e56-eb54-f496f9bc5bcd"
      },
      "outputs": [
        {
          "output_type": "stream",
          "name": "stdout",
          "text": [
            "Programa para calcular el promedio de las notas y saber si aprobaste\n",
            "Ingrese la nota para aprobar el curso: 14\n",
            "Ingrese la cantidad de notas: 4\n",
            "La cantidad de notas es: 4\n",
            "Ingrese la nota 1: 15\n",
            "Ingrese la nota 2: 8\n",
            "Ingrese la nota 3: 18\n",
            "Ingrese la nota 4: 20\n",
            "El promedio de las notas es 15.25\n",
            "Felicidades, aprobaste el curso\n"
          ]
        }
      ],
      "source": [
        "import numpy as np\n",
        "\n",
        "print(\"Programa para calcular el promedio de las notas y saber si aprobaste\")\n",
        "\n",
        "\n",
        "notaAprobar = int(input(\"Ingrese la nota para aprobar el curso: \"))\n",
        "cantidad = int(input(\"Ingrese la cantidad de notas: \"))\n",
        "\n",
        "\n",
        "print(f\"La cantidad de notas es: {cantidad}\")\n",
        "\n",
        "notas = []\n",
        "\n",
        "for i in range(cantidad):\n",
        "  nota = int(input(f\"Ingrese la nota {i+1}: \"))\n",
        "  notas.append(nota)\n",
        "\n",
        "# mean -> media\n",
        "# median -> mediana\n",
        "# mode -> moda\n",
        "\n",
        "notas = np.array(notas)\n",
        "promedio = round(notas.mean(), 2)\n",
        "print(f\"El promedio de las notas es {promedio}\")\n",
        "\n",
        "if promedio >= notaAprobar:\n",
        "  print(\"Felicidades, aprobaste el curso\")\n",
        "else:\n",
        "  print(\"Para el otro año será\")"
      ]
    },
    {
      "cell_type": "code",
      "source": [
        "import numpy as np\n",
        "\n",
        "print(\"Una matriz m x n\")\n",
        "filas = int(input(\"Ingrese el valor de m: \"))\n",
        "while filas <= 0:\n",
        "  print(\"ERROR: m debe ser un valor positivo\")\n",
        "  filas = int(input(\"Ingrese el valor de m: \"))\n",
        "############################################\n",
        "columnas = int(input(\"Ingrese el valor de n: \"))\n",
        "while columnas <= 0:\n",
        "  print(\"ERROR: m debe ser un valor positivo\")\n",
        "  columnas = int(input(\"Ingrese el valor de n: \"))\n",
        "\n",
        "numeros = []\n",
        "\n",
        "for i in range(filas):\n",
        "  lista = []\n",
        "  for j in range(columnas):\n",
        "    numero = int(input(f\"Ingresa el elemento en la posicion {i+1}x{j+1}: \"))\n",
        "    lista.append(numero)\n",
        "  numeros.append(lista)\n",
        "\n",
        "numeros = np.array(numeros)\n",
        "\n",
        "print(numeros)\n",
        "\n",
        "print(\"Suma de FILAS\")\n",
        "for i in range(filas):\n",
        "  print(f\"La suma de la fila {i+1} es: {numeros[i, :].sum()}\")\n",
        "\n",
        "print(\"Suma de COLUMNAS\")\n",
        "for j in range(columnas):\n",
        "  print(f\"La suma de la columna {j+1} es: {numeros[:, j].sum()}\")\n"
      ],
      "metadata": {
        "colab": {
          "base_uri": "https://localhost:8080/"
        },
        "id": "_ROgAftwTs9L",
        "outputId": "e733f351-5710-4a39-cef8-1616bb731acf"
      },
      "execution_count": 1,
      "outputs": [
        {
          "output_type": "stream",
          "name": "stdout",
          "text": [
            "Una matriz m x n\n",
            "Ingrese el valor de m: 3\n",
            "Ingrese el valor de n: 3\n",
            "Ingresa el elemento en la posicion 1x1: 1\n",
            "Ingresa el elemento en la posicion 1x2: 2\n",
            "Ingresa el elemento en la posicion 1x3: 3\n",
            "Ingresa el elemento en la posicion 2x1: 4\n",
            "Ingresa el elemento en la posicion 2x2: 5\n",
            "Ingresa el elemento en la posicion 2x3: 6\n",
            "Ingresa el elemento en la posicion 3x1: 7\n",
            "Ingresa el elemento en la posicion 3x2: 8\n",
            "Ingresa el elemento en la posicion 3x3: 9\n",
            "[[1 2 3]\n",
            " [4 5 6]\n",
            " [7 8 9]]\n",
            "Suma de FILAS\n",
            "La suma de la fila 1 es: 6\n",
            "La suma de la fila 2 es: 15\n",
            "La suma de la fila 3 es: 24\n",
            "Suma de COLUMNAS\n",
            "La suma de la columna 1 es: 12\n",
            "La suma de la columna 2 es: 15\n",
            "La suma de la columna 3 es: 18\n"
          ]
        }
      ]
    }
  ]
}