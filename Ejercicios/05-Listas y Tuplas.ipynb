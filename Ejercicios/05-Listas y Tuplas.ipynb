{
 "cells": [
  {
   "cell_type": "markdown",
   "id": "8ee78d8e",
   "metadata": {},
   "source": [
    "# Ejercicios de Listas y Tuplas\n",
    "\n",
    "Esta colección contiene ejercicios para practicar el manejo de listas y tuplas en Python."
   ]
  },
  {
   "cell_type": "markdown",
   "id": "f8d3ccfd",
   "metadata": {},
   "source": [
    "## Ejercicio 1\n",
    "\n",
    "Escribir un programa que almacene las asignaturas de un curso (por ejemplo Matemáticas, Física, Química, Historia y Lengua) en una lista y la muestre por pantalla."
   ]
  },
  {
   "cell_type": "code",
   "execution_count": null,
   "id": "f6f69f02",
   "metadata": {},
   "outputs": [],
   "source": [
    "asignaturas = [\"Matemáticas\", \"Física\", \"Química\", \"Historia\", \"Lengua\"]\n",
    "print(asignaturas)"
   ]
  },
  {
   "cell_type": "markdown",
   "id": "18096fe2",
   "metadata": {},
   "source": [
    "## Ejercicio 2\n",
    "\n",
    "Escribir un programa que almacene las asignaturas de un curso (por ejemplo Matemáticas, Física, Química, Historia y Lengua) en una lista y la muestre por pantalla el mensaje Yo estudio `<asignatura>`, donde `<asignatura>` es cada una de las asignaturas de la lista."
   ]
  },
  {
   "cell_type": "code",
   "execution_count": null,
   "id": "4d0eb55e",
   "metadata": {},
   "outputs": [],
   "source": [
    "asignaturas = [\"Matemáticas\", \"Física\", \"Química\", \"Historia\", \"Lengua\"]\n",
    "for asignatura in asignaturas:\n",
    "    print(f\"Yo estudio {asignatura}\")"
   ]
  },
  {
   "cell_type": "markdown",
   "id": "ebeb1b10",
   "metadata": {},
   "source": [
    "## Ejercicio 3\n",
    "\n",
    "Escribir un programa que almacene las asignaturas de un curso (por ejemplo Matemáticas, Física, Química, Historia y Lengua) en una lista, pregunte al usuario la nota que ha sacado en cada asignatura, y después las muestre por pantalla con el mensaje En `<asignatura>` has sacado `<nota>` donde `<asignatura>` es cada una des las asignaturas de la lista y `<nota>` cada una de las correspondientes notas introducidas por el usuario."
   ]
  },
  {
   "cell_type": "code",
   "execution_count": null,
   "id": "0c4233da",
   "metadata": {},
   "outputs": [],
   "source": [
    "asignaturas = [\"Matemáticas\", \"Física\", \"Química\", \"Historia\", \"Lengua\"]\n",
    "notas = []\n",
    "\n",
    "for asignatura in asignaturas:\n",
    "    nota = float(input(f\"¿Qué nota has sacado en {asignatura}? \"))\n",
    "    notas.append(nota)\n",
    "\n",
    "for i in range(len(asignaturas)):\n",
    "    print(f\"En {asignaturas[i]} has sacado {notas[i]}\")"
   ]
  },
  {
   "cell_type": "markdown",
   "id": "f11a9c7f",
   "metadata": {},
   "source": [
    "## Ejercicio 4\n",
    "\n",
    "Escribir un programa que pregunte al usuario los números ganadores de la lotería primitiva, los almacene en una lista y los muestre por pantalla ordenados de menor a mayor."
   ]
  },
  {
   "cell_type": "code",
   "execution_count": null,
   "id": "7319e24a",
   "metadata": {},
   "outputs": [],
   "source": [
    "numeros = []\n",
    "for i in range(6):\n",
    "    numero = int(input(f\"Introduce el número {i+1}: \"))\n",
    "    numeros.append(numero)\n",
    "\n",
    "numeros.sort()\n",
    "print(\"Los números ganadores ordenados son:\", numeros)"
   ]
  },
  {
   "cell_type": "markdown",
   "id": "15962fdc",
   "metadata": {},
   "source": [
    "## Ejercicio 5\n",
    "\n",
    "Escribir un programa que almacene en una lista los números del 1 al 10 y los muestre por pantalla en orden inverso separados por comas."
   ]
  },
  {
   "cell_type": "code",
   "execution_count": null,
   "id": "1ece623c",
   "metadata": {},
   "outputs": [],
   "source": [
    "numeros = list(range(1, 11))\n",
    "numeros.reverse()\n",
    "print(\", \".join(map(str, numeros)))"
   ]
  },
  {
   "cell_type": "markdown",
   "id": "9499023a",
   "metadata": {},
   "source": [
    "## Ejercicio 6\n",
    "\n",
    "Escribir un programa que almacene las asignaturas de un curso (por ejemplo Matemáticas, Física, Química, Historia y Lengua) en una lista, pregunte al usuario la nota que ha sacado en cada asignatura y elimine de la lista las asignaturas aprobadas. Al final el programa debe mostrar por pantalla las asignaturas que el usuario tiene que repetir."
   ]
  },
  {
   "cell_type": "code",
   "execution_count": null,
   "id": "ee6ee0c7",
   "metadata": {},
   "outputs": [],
   "source": [
    "asignaturas = [\"Matemáticas\", \"Física\", \"Química\", \"Historia\", \"Lengua\"]\n",
    "suspensas = []\n",
    "\n",
    "for asignatura in asignaturas:\n",
    "    nota = float(input(f\"¿Qué nota has sacado en {asignatura}? \"))\n",
    "    if nota < 5:\n",
    "        suspensas.append(asignatura)\n",
    "\n",
    "if suspensas:\n",
    "    print(\"Tienes que repetir las siguientes asignaturas:\")\n",
    "    for asignatura in suspensas:\n",
    "        print(asignatura)\n",
    "else:\n",
    "    print(\"¡Felicidades! Has aprobado todas las asignaturas\")"
   ]
  },
  {
   "cell_type": "markdown",
   "id": "50783739",
   "metadata": {},
   "source": [
    "## Ejercicio 7\n",
    "\n",
    "Escribir un programa que almacene el abecedario en una lista, elimine de la lista las letras que ocupen posiciones múltiplos de 3, y muestre por pantalla la lista resultante."
   ]
  },
  {
   "cell_type": "code",
   "execution_count": null,
   "id": "7fffa2a8",
   "metadata": {},
   "outputs": [],
   "source": [
    "abecedario = ['a', 'b', 'c', 'd', 'e', 'f', 'g', 'h', 'i', 'j', 'k', 'l', 'm', 'n', 'ñ', 'o', 'p', 'q', 'r', 's', 't', 'u', 'v', 'w', 'x', 'y', 'z']\n",
    "resultado = []\n",
    "\n",
    "for i in range(len(abecedario)):\n",
    "    if (i + 1) % 3 != 0:\n",
    "        resultado.append(abecedario[i])\n",
    "\n",
    "print(resultado)"
   ]
  },
  {
   "cell_type": "markdown",
   "id": "236868cf",
   "metadata": {},
   "source": [
    "## Ejercicio 8\n",
    "\n",
    "Escribir un programa que pida al usuario una palabra y muestre por pantalla si es un palíndromo."
   ]
  },
  {
   "cell_type": "code",
   "execution_count": null,
   "id": "9ea6079c",
   "metadata": {},
   "outputs": [],
   "source": [
    "palabra = input(\"Introduce una palabra: \").lower()\n",
    "palabra_lista = list(palabra)\n",
    "palabra_invertida = palabra_lista[::-1]\n",
    "\n",
    "if palabra_lista == palabra_invertida:\n",
    "    print(f\"'{palabra}' es un palíndromo\")\n",
    "else:\n",
    "    print(f\"'{palabra}' no es un palíndromo\")"
   ]
  },
  {
   "cell_type": "markdown",
   "id": "bbab6002",
   "metadata": {},
   "source": [
    "## Ejercicio 9\n",
    "\n",
    "Escribir un programa que pida al usuario una palabra y muestre por pantalla el número de veces que contiene cada vocal."
   ]
  },
  {
   "cell_type": "code",
   "execution_count": null,
   "id": "00a91f8d",
   "metadata": {},
   "outputs": [],
   "source": [
    "palabra = input(\"Introduce una palabra: \").lower()\n",
    "vocales = ['a', 'e', 'i', 'o', 'u']\n",
    "\n",
    "for vocal in vocales:\n",
    "    contador = palabra.count(vocal)\n",
    "    print(f\"La vocal '{vocal}' aparece {contador} veces\")"
   ]
  },
  {
   "cell_type": "markdown",
   "id": "86202e77",
   "metadata": {},
   "source": [
    "## Ejercicio 10\n",
    "\n",
    "Escribir un programa que almacene en una lista los siguientes precios, 50, 75, 46, 22, 80, 65, 8, y muestre por pantalla el menor y el mayor de los precios."
   ]
  },
  {
   "cell_type": "code",
   "execution_count": null,
   "id": "556e4c74",
   "metadata": {},
   "outputs": [],
   "source": [
    "precios = [50, 75, 46, 22, 80, 65, 8]\n",
    "precio_menor = min(precios)\n",
    "precio_mayor = max(precios)\n",
    "print(f\"El precio menor es: {precio_menor}\")\n",
    "print(f\"El precio mayor es: {precio_mayor}\")"
   ]
  },
  {
   "cell_type": "markdown",
   "id": "618ef3fa",
   "metadata": {},
   "source": [
    "## Ejercicio 11\n",
    "\n",
    "Escribir un programa que almacene los vectores (1,2,3) y (-1,0,2) en dos listas y muestre por pantalla su producto escalar."
   ]
  },
  {
   "cell_type": "code",
   "execution_count": null,
   "id": "1a851dfe",
   "metadata": {},
   "outputs": [],
   "source": [
    "vector1 = [1, 2, 3]\n",
    "vector2 = [-1, 0, 2]\n",
    "producto_escalar = 0\n",
    "\n",
    "for i in range(len(vector1)):\n",
    "    producto_escalar += vector1[i] * vector2[i]\n",
    "\n",
    "print(f\"El producto escalar de {vector1} y {vector2} es: {producto_escalar}\")"
   ]
  },
  {
   "cell_type": "markdown",
   "id": "dbbe1045",
   "metadata": {},
   "source": [
    "## Ejercicio 12\n",
    "\n",
    "Escribir un programa que almacene las matrices \n",
    "\n",
    "$A = \\begin{pmatrix} 1 & 2 & 3\\\\\\\\ 4 & 5 & 6 \\end{pmatrix} \\quad \\text{y} \\quad B = \\begin{pmatrix} -1 & 0\\\\\\\\ 0 & 1\\\\\\\\ 1 & 1 \\end{pmatrix}$\n",
    "\n",
    "en una lista y muestre por pantalla su producto.\n",
    "\n",
    "**Nota:** Para representar matrices mediante listas usar listas anidadas, representando cada vector fila en una lista."
   ]
  },
  {
   "cell_type": "code",
   "execution_count": null,
   "id": "c84fde91",
   "metadata": {},
   "outputs": [],
   "source": [
    "A = [[1, 2, 3], [4, 5, 6]]\n",
    "B = [[-1, 0], [0, 1], [1, 1]]\n",
    "\n",
    "filas_A = len(A)\n",
    "columnas_A = len(A[0])\n",
    "columnas_B = len(B[0])\n",
    "\n",
    "C = []\n",
    "for i in range(filas_A):\n",
    "    fila = []\n",
    "    for j in range(columnas_B):\n",
    "        suma = 0\n",
    "        for k in range(columnas_A):\n",
    "            suma += A[i][k] * B[k][j]\n",
    "        fila.append(suma)\n",
    "    C.append(fila)\n",
    "\n",
    "print(\"El producto de las matrices A y B es:\")\n",
    "for fila in C:\n",
    "    print(fila)"
   ]
  },
  {
   "cell_type": "markdown",
   "id": "67d40db9",
   "metadata": {},
   "source": [
    "## Ejercicio 13\n",
    "\n",
    "Escribir un programa que pregunte por una muestra de números, separados por comas, los guarde en una lista y muestre por pantalla su media y desviación típica.\n",
    "\n",
    "**Fórmulas:**\n",
    "- Media: $\\boxed{\\bar{x} = \\frac{1}{n}\\sum_{i=1}^{n} x_i}$\n",
    "- Desviación típica: $\\boxed{\\sigma = \\sqrt{\\frac{1}{n}\\sum_{i=1}^{n} (x_i - \\bar{x})^2}}$"
   ]
  },
  {
   "cell_type": "code",
   "execution_count": null,
   "id": "52eb954f",
   "metadata": {},
   "outputs": [],
   "source": [
    "import math\n",
    "\n",
    "muestra = input(\"Introduce una muestra de números separados por comas: \")\n",
    "numeros = [float(x.strip()) for x in muestra.split(\",\")]\n",
    "\n",
    "n = len(numeros)\n",
    "media = sum(numeros) / n\n",
    "\n",
    "suma_cuadrados = sum((x - media)**2 for x in numeros)\n",
    "desviacion_tipica = math.sqrt(suma_cuadrados / n)\n",
    "\n",
    "print(f\"Media: {media:.2f}\")\n",
    "print(f\"Desviación típica: {desviacion_tipica:.2f}\")"
   ]
  }
 ],
 "metadata": {
  "language_info": {
   "name": "python"
  }
 },
 "nbformat": 4,
 "nbformat_minor": 5
}
