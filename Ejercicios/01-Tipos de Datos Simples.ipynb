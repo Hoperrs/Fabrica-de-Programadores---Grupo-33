{
 "cells": [
  {
   "cell_type": "markdown",
   "id": "eb85816f",
   "metadata": {},
   "source": [
    "# Ejercicios de Tipos de Datos Simples\n",
    "\n",
    "Esta colección contiene ejercicios para practicar los tipos de datos simples en Python."
   ]
  },
  {
   "cell_type": "markdown",
   "id": "9deae749",
   "metadata": {},
   "source": [
    "## Ejercicio 1\n",
    "\n",
    "Escribir un programa que muestre por pantalla la cadena ¡Hola Mundo!."
   ]
  },
  {
   "cell_type": "code",
   "execution_count": null,
   "id": "fc21806a",
   "metadata": {},
   "outputs": [],
   "source": [
    "print(\"¡Hola Mundo!\")"
   ]
  },
  {
   "cell_type": "markdown",
   "id": "1192aa80",
   "metadata": {},
   "source": [
    "## Ejercicio 2\n",
    "\n",
    "Escribir un programa que almacene la cadena ¡Hola Mundo! en una variable y luego muestre por pantalla el contenido de la variable."
   ]
  },
  {
   "cell_type": "code",
   "execution_count": null,
   "id": "a2e0825c",
   "metadata": {},
   "outputs": [],
   "source": [
    "mensaje = \"¡Hola Mundo!\"\n",
    "print(mensaje)"
   ]
  },
  {
   "cell_type": "markdown",
   "id": "863a2ca0",
   "metadata": {},
   "source": [
    "## Ejercicio 3\n",
    "\n",
    "Escribir un programa que pregunte el nombre del usuario en la consola y después de que el usuario lo introduzca muestre por pantalla la cadena ¡Hola `<nombre>`!, donde `<nombre>` es el nombre que el usuario haya introducido."
   ]
  },
  {
   "cell_type": "code",
   "execution_count": null,
   "id": "bd373ea7",
   "metadata": {},
   "outputs": [],
   "source": [
    "nombre = input(\"Introduce tu nombre: \")\n",
    "print(f\"¡Hola {nombre}!\")"
   ]
  },
  {
   "cell_type": "markdown",
   "id": "0bd853a1",
   "metadata": {},
   "source": [
    "## Ejercicio 4\n",
    "\n",
    "Escribir un programa que muestre por pantalla el resultado de la siguiente operación aritmética $\\left(\\frac{3+2}{2\\cdot 5}\\right)^2$."
   ]
  },
  {
   "cell_type": "code",
   "execution_count": null,
   "id": "28f1c66e",
   "metadata": {},
   "outputs": [],
   "source": [
    "resultado = ((3 + 2) / (2 * 5)) ** 2\n",
    "print(resultado)"
   ]
  },
  {
   "cell_type": "markdown",
   "id": "84c8240a",
   "metadata": {},
   "source": [
    "## Ejercicio 5\n",
    "\n",
    "Escribir un programa que pregunte al usuario por el número de horas trabajadas y el coste por hora. Después debe mostrar por pantalla la paga que le corresponde."
   ]
  },
  {
   "cell_type": "code",
   "execution_count": null,
   "id": "b181f2c3",
   "metadata": {},
   "outputs": [],
   "source": [
    "horas = float(input(\"Introduce el número de horas trabajadas: \"))\n",
    "coste_hora = float(input(\"Introduce el coste por hora: \"))\n",
    "paga = horas * coste_hora\n",
    "print(f\"La paga que le corresponde es: {paga}\")"
   ]
  },
  {
   "cell_type": "markdown",
   "id": "0595169c",
   "metadata": {},
   "source": [
    "## Ejercicio 6\n",
    "\n",
    "Escribir un programa que lea un entero positivo, $n$, introducido por el usuario y después muestre en pantalla la suma de todos los enteros desde 1 hasta $n$. La suma de los $n$ primeros enteros positivos puede ser calculada de la siguiente forma:\n",
    "\n",
    "$$ \\boxed{suma = \\frac{n(n+1)}{2}} $$"
   ]
  },
  {
   "cell_type": "code",
   "execution_count": null,
   "id": "b7c3a863",
   "metadata": {},
   "outputs": [],
   "source": [
    "n = int(input(\"Introduce un entero positivo: \"))\n",
    "suma = n * (n + 1) // 2\n",
    "print(f\"La suma de todos los enteros desde 1 hasta {n} es: {suma}\")"
   ]
  },
  {
   "cell_type": "markdown",
   "id": "9f8926b4",
   "metadata": {},
   "source": [
    "## Ejercicio 7\n",
    "\n",
    "Escribir un programa que pida al usuario su peso (en kg) y estatura (en metros), calcule el índice de masa corporal y lo almacene en una variable, y muestre por pantalla la frase Tu índice de masa corporal es `<imc>` donde `<imc>` es el índice de masa corporal calculado redondeado con dos decimales."
   ]
  },
  {
   "cell_type": "code",
   "execution_count": null,
   "id": "0e923da8",
   "metadata": {},
   "outputs": [],
   "source": [
    "peso = float(input(\"Introduce tu peso en kg: \"))\n",
    "estatura = float(input(\"Introduce tu estatura en metros: \"))\n",
    "imc = peso / (estatura ** 2)\n",
    "print(f\"Tu índice de masa corporal es {imc:.2f}\")"
   ]
  },
  {
   "cell_type": "markdown",
   "id": "f8b37a99",
   "metadata": {},
   "source": [
    "## Ejercicio 8\n",
    "\n",
    "Escribir un programa que pida al usuario dos números enteros y muestre por pantalla la `<n>` entre `<m>` da un cociente `<c>` y un resto `<r>` donde `<n>` y `<m>` son los números introducidos por el usuario, y `<c>` y `<r>` son el cociente y el resto de la división entera respectivamente."
   ]
  },
  {
   "cell_type": "code",
   "execution_count": null,
   "id": "64572245",
   "metadata": {},
   "outputs": [],
   "source": [
    "n = int(input(\"Introduce el primer número entero: \"))\n",
    "m = int(input(\"Introduce el segundo número entero: \"))\n",
    "cociente = n // m\n",
    "resto = n % m\n",
    "print(f\"{n} entre {m} da un cociente {cociente} y un resto {resto}\")"
   ]
  },
  {
   "cell_type": "markdown",
   "id": "f3341d9d",
   "metadata": {},
   "source": [
    "## Ejercicio 9\n",
    "\n",
    "Escribir un programa que pregunte al usuario una cantidad a invertir, el interés anual y el número de años, y muestre por pantalla el capital obtenido en la inversión."
   ]
  },
  {
   "cell_type": "code",
   "execution_count": null,
   "id": "1a442d4a",
   "metadata": {},
   "outputs": [],
   "source": [
    "cantidad = float(input(\"Introduce la cantidad a invertir: \"))\n",
    "interes = float(input(\"Introduce el interés anual (en %): \"))\n",
    "años = int(input(\"Introduce el número de años: \"))\n",
    "capital = cantidad * (1 + interes/100) ** años\n",
    "print(f\"El capital obtenido en la inversión es: {capital:.2f}\")"
   ]
  },
  {
   "cell_type": "markdown",
   "id": "bd40c6bd",
   "metadata": {},
   "source": [
    "## Ejercicio 10\n",
    "\n",
    "Una juguetería tiene mucho éxito en dos de sus productos: payasos y muñecas. Suele hacer venta por correo y la empresa de logística les cobra por peso de cada paquete así que deben calcular el peso de los payasos y muñecas que saldrán en cada paquete a demanda. Cada payaso pesa 112 g y cada muñeca 75 g. Escribir un programa que lea el número de payasos y muñecas vendidos en el último pedido y calcule el peso total del paquete que será enviado."
   ]
  },
  {
   "cell_type": "code",
   "execution_count": null,
   "id": "93ec27da",
   "metadata": {},
   "outputs": [],
   "source": [
    "payasos = int(input(\"Introduce el número de payasos: \"))\n",
    "muñecas = int(input(\"Introduce el número de muñecas: \"))\n",
    "peso_payasos = payasos * 112  # gramos\n",
    "peso_muñecas = muñecas * 75   # gramos\n",
    "peso_total = peso_payasos + peso_muñecas\n",
    "print(f\"El peso total del paquete es: {peso_total} gramos\")"
   ]
  },
  {
   "cell_type": "markdown",
   "id": "0a6daaa4",
   "metadata": {},
   "source": [
    "## Ejercicio 11\n",
    "\n",
    "Imagina que acabas de abrir una nueva cuenta de ahorros que te ofrece el 4% de interés al año. Estos ahorros debido a intereses, que no se cobran hasta finales de año, se te añaden al balance final de tu cuenta de ahorros. Escribir un programa que comience leyendo la cantidad de dinero depositada en la cuenta de ahorros, introducida por el usuario. Después el programa debe calcular y mostrar por pantalla la cantidad de ahorros tras el primer, segundo y tercer años. Redondear cada cantidad a dos decimales."
   ]
  },
  {
   "cell_type": "code",
   "execution_count": null,
   "id": "4700152e",
   "metadata": {},
   "outputs": [],
   "source": [
    "deposito_inicial = float(input(\"Introduce la cantidad de dinero depositada: \"))\n",
    "interes = 0.04  # 4% anual\n",
    "\n",
    "# Calcular ahorros año tras año\n",
    "año1 = deposito_inicial * (1 + interes)\n",
    "año2 = año1 * (1 + interes)\n",
    "año3 = año2 * (1 + interes)\n",
    "\n",
    "print(f\"Cantidad de ahorros tras el primer año: {año1:.2f}\")\n",
    "print(f\"Cantidad de ahorros tras el segundo año: {año2:.2f}\")\n",
    "print(f\"Cantidad de ahorros tras el tercer año: {año3:.2f}\")"
   ]
  },
  {
   "cell_type": "markdown",
   "id": "48b73d85",
   "metadata": {},
   "source": [
    "## Ejercicio 12\n",
    "\n",
    "Una panadería vende barras de pan a 3.49€ cada una. El pan que no es el día tiene un descuento del 60%. Escribir un programa que comience leyendo el número de barras vendidas que no son del día. Después el programa debe mostrar el precio habitual de una barra de pan, el descuento que se le hace por no ser fresca y el coste final total."
   ]
  },
  {
   "cell_type": "code",
   "execution_count": null,
   "id": "8a32d00b",
   "metadata": {},
   "outputs": [],
   "source": [
    "barras = int(input(\"Introduce el número de barras vendidas que no son del día: \"))\n",
    "precio_normal = 3.49\n",
    "descuento_porcentaje = 60\n",
    "descuento = precio_normal * (descuento_porcentaje / 100)\n",
    "precio_con_descuento = precio_normal - descuento\n",
    "coste_total = barras * precio_con_descuento\n",
    "\n",
    "print(f\"Precio habitual de una barra de pan: {precio_normal:.2f}€\")\n",
    "print(f\"Descuento por no ser fresca: {descuento:.2f}€\")\n",
    "print(f\"Coste final total: {coste_total:.2f}€\")"
   ]
  }
 ],
 "metadata": {
  "language_info": {
   "name": "python"
  }
 },
 "nbformat": 4,
 "nbformat_minor": 5
}
