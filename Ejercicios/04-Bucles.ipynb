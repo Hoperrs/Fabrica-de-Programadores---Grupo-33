{
 "cells": [
  {
   "cell_type": "markdown",
   "id": "eadcffee",
   "metadata": {},
   "source": [
    "# Ejercicios de Bucles\n",
    "\n",
    "Esta colección contiene ejercicios para practicar las estructuras de repetición (bucles) en Python."
   ]
  },
  {
   "cell_type": "markdown",
   "id": "ce0ed165",
   "metadata": {},
   "source": [
    "## Ejercicio 1\n",
    "\n",
    "Escribir un programa que pida al usuario una palabra y la muestre por pantalla 10 veces."
   ]
  },
  {
   "cell_type": "code",
   "execution_count": null,
   "id": "ec744d1d",
   "metadata": {},
   "outputs": [],
   "source": [
    "palabra = input(\"Introduce una palabra: \")\n",
    "for i in range(10):\n",
    "    print(palabra)"
   ]
  },
  {
   "cell_type": "markdown",
   "id": "f6831475",
   "metadata": {},
   "source": [
    "## Ejercicio 2\n",
    "\n",
    "Escribir un programa que pregunte al usuario su edad y muestre por pantalla todos los años que ha cumplido (desde 1 hasta su edad)."
   ]
  },
  {
   "cell_type": "code",
   "execution_count": null,
   "id": "c8853469",
   "metadata": {},
   "outputs": [],
   "source": [
    "edad = int(input(\"Introduce tu edad: \"))\n",
    "for año in range(1, edad + 1):\n",
    "    print(año)"
   ]
  },
  {
   "cell_type": "markdown",
   "id": "47e149d0",
   "metadata": {},
   "source": [
    "## Ejercicio 3\n",
    "\n",
    "Escribir un programa que pida al usuario un número entero positivo y muestre por pantalla todos los números impares desde 1 hasta ese número separados por comas."
   ]
  },
  {
   "cell_type": "code",
   "execution_count": null,
   "id": "5a1a995f",
   "metadata": {},
   "outputs": [],
   "source": [
    "numero = int(input(\"Introduce un número entero positivo: \"))\n",
    "impares = []\n",
    "for i in range(1, numero + 1):\n",
    "    if i % 2 != 0:\n",
    "        impares.append(str(i))\n",
    "print(\", \".join(impares))"
   ]
  },
  {
   "cell_type": "markdown",
   "id": "3e9b4321",
   "metadata": {},
   "source": [
    "## Ejercicio 4\n",
    "\n",
    "Escribir un programa que pida al usuario un número entero positivo y muestre por pantalla la cuenta atrás desde ese número hasta cero separados por comas."
   ]
  },
  {
   "cell_type": "code",
   "execution_count": null,
   "id": "8ad78747",
   "metadata": {},
   "outputs": [],
   "source": [
    "numero = int(input(\"Introduce un número entero positivo: \"))\n",
    "cuenta_atras = []\n",
    "for i in range(numero, -1, -1):\n",
    "    cuenta_atras.append(str(i))\n",
    "print(\", \".join(cuenta_atras))"
   ]
  },
  {
   "cell_type": "markdown",
   "id": "0ab2d13b",
   "metadata": {},
   "source": [
    "## Ejercicio 5\n",
    "\n",
    "Escribir un programa que pregunte al usuario una cantidad a invertir, el interés anual y el número de años, y muestre por pantalla el capital obtenido en la inversión cada año que dura la inversión."
   ]
  },
  {
   "cell_type": "code",
   "execution_count": null,
   "id": "17ffc74f",
   "metadata": {},
   "outputs": [],
   "source": [
    "cantidad = float(input(\"Introduce la cantidad a invertir: \"))\n",
    "interes = float(input(\"Introduce el interés anual (en %): \"))\n",
    "años = int(input(\"Introduce el número de años: \"))\n",
    "\n",
    "capital = cantidad\n",
    "for año in range(1, años + 1):\n",
    "    capital = capital * (1 + interes/100)\n",
    "    print(f\"Año {año}: {capital:.2f}€\")"
   ]
  },
  {
   "cell_type": "markdown",
   "id": "209698ca",
   "metadata": {},
   "source": [
    "## Ejercicio 6\n",
    "\n",
    "Escribir un programa que pida al usuario un número entero y muestre por pantalla un triángulo rectángulo como el de más abajo, de altura el número introducido.\n",
    "\n",
    "```\n",
    "*\n",
    "**\n",
    "***\n",
    "****\n",
    "*****\n",
    "```"
   ]
  },
  {
   "cell_type": "code",
   "execution_count": null,
   "id": "25a77827",
   "metadata": {},
   "outputs": [],
   "source": [
    "altura = int(input(\"Introduce un número entero: \"))\n",
    "for i in range(1, altura + 1):\n",
    "    print(\"*\" * i)"
   ]
  },
  {
   "cell_type": "markdown",
   "id": "3822732d",
   "metadata": {},
   "source": [
    "## Ejercicio 7\n",
    "\n",
    "Escribir un programa que muestre por pantalla la tabla de multiplicar del 1 al 10."
   ]
  },
  {
   "cell_type": "code",
   "execution_count": null,
   "id": "c1cb9295",
   "metadata": {},
   "outputs": [],
   "source": [
    "for i in range(1, 11):\n",
    "    print(f\"Tabla del {i}:\")\n",
    "    for j in range(1, 11):\n",
    "        print(f\"{i} x {j} = {i * j}\")\n",
    "    print()"
   ]
  },
  {
   "cell_type": "markdown",
   "id": "f6508298",
   "metadata": {},
   "source": [
    "## Ejercicio 8\n",
    "\n",
    "Escribir un programa que pida al usuario un número entero y muestre por pantalla un triángulo rectángulo como el de más abajo.\n",
    "\n",
    "```\n",
    "1\n",
    "3 1\n",
    "5 3 1\n",
    "7 5 3 1\n",
    "9 7 5 3 1\n",
    "```"
   ]
  },
  {
   "cell_type": "code",
   "execution_count": null,
   "id": "eca7595e",
   "metadata": {},
   "outputs": [],
   "source": [
    "filas = int(input(\"Introduce un número entero: \"))\n",
    "for i in range(filas):\n",
    "    linea = []\n",
    "    for numero in range(2 * i + 1, 0, -2):\n",
    "        linea.append(str(numero))\n",
    "    print(\" \".join(linea))"
   ]
  },
  {
   "cell_type": "markdown",
   "id": "8eff2532",
   "metadata": {},
   "source": [
    "## Ejercicio 9\n",
    "\n",
    "Escribir un programa que almacene la cadena de caracteres contraseña en una variable, pregunte al usuario por la contraseña hasta que introduzca la contraseña correcta."
   ]
  },
  {
   "cell_type": "code",
   "execution_count": null,
   "id": "bb15578a",
   "metadata": {},
   "outputs": [],
   "source": [
    "contraseña_correcta = \"contraseña\"\n",
    "contraseña_usuario = \"\"\n",
    "while contraseña_usuario != contraseña_correcta:\n",
    "    contraseña_usuario = input(\"Introduce la contraseña: \")\n",
    "    if contraseña_usuario != contraseña_correcta:\n",
    "        print(\"Contraseña incorrecta. Inténtalo de nuevo.\")\n",
    "print(\"¡Contraseña correcta!\")"
   ]
  },
  {
   "cell_type": "markdown",
   "id": "f5c47352",
   "metadata": {},
   "source": [
    "## Ejercicio 10\n",
    "\n",
    "Escribir un programa que pida al usuario un número entero y muestre por pantalla si es un número primo o no."
   ]
  },
  {
   "cell_type": "code",
   "execution_count": null,
   "id": "82f8f13d",
   "metadata": {},
   "outputs": [],
   "source": [
    "numero = int(input(\"Introduce un número entero: \"))\n",
    "if numero < 2:\n",
    "    print(f\"{numero} no es un número primo\")\n",
    "else:\n",
    "    es_primo = True\n",
    "    for i in range(2, int(numero**0.5) + 1):\n",
    "        if numero % i == 0:\n",
    "            es_primo = False\n",
    "            break\n",
    "    \n",
    "    if es_primo:\n",
    "        print(f\"{numero} es un número primo\")\n",
    "    else:\n",
    "        print(f\"{numero} no es un número primo\")"
   ]
  },
  {
   "cell_type": "markdown",
   "id": "275e199e",
   "metadata": {},
   "source": [
    "## Ejercicio 11\n",
    "\n",
    "Escribir un programa que pida al usuario una palabra y luego muestre por pantalla una a una las letras de la palabra introducida empezando por la última."
   ]
  },
  {
   "cell_type": "code",
   "execution_count": null,
   "id": "a33fe166",
   "metadata": {},
   "outputs": [],
   "source": [
    "palabra = input(\"Introduce una palabra: \")\n",
    "palabra_invertida = palabra[::-1]\n",
    "for caracter in palabra_invertida:\n",
    "    print(caracter)"
   ]
  }
 ],
 "metadata": {
  "kernelspec": {
   "display_name": "Python 3",
   "language": "python",
   "name": "python3"
  },
  "language_info": {
   "name": "python",
   "version": "3.12.10"
  }
 },
 "nbformat": 4,
 "nbformat_minor": 5
}
