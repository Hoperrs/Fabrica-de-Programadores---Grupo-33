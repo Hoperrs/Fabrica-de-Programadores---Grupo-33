{
 "cells": [
  {
   "cell_type": "markdown",
   "id": "13bf24cf",
   "metadata": {},
   "source": [
    "# Ejercicios de Funciones\n",
    "\n",
    "Esta colección contiene ejercicios para practicar la definición y uso de funciones en Python."
   ]
  },
  {
   "cell_type": "markdown",
   "id": "c460407a",
   "metadata": {},
   "source": [
    "## Ejercicio 1\n",
    "\n",
    "Escribir una función que muestre por pantalla el saludo ¡Hola amiga! cada vez que se la invoque."
   ]
  },
  {
   "cell_type": "code",
   "execution_count": null,
   "id": "da193f84",
   "metadata": {},
   "outputs": [],
   "source": [
    "def saludar():\n",
    "    print(\"¡Hola amiga!\")\n",
    "\n",
    "saludar()"
   ]
  },
  {
   "cell_type": "markdown",
   "id": "43d67290",
   "metadata": {},
   "source": [
    "## Ejercicio 2\n",
    "\n",
    "Escribir una función a la que se le pase una cadena `<nombre>` y muestre por pantalla el saludo ¡hola `<nombre>`!."
   ]
  },
  {
   "cell_type": "code",
   "execution_count": null,
   "id": "8c565514",
   "metadata": {},
   "outputs": [],
   "source": [
    "def saludar_persona(nombre):\n",
    "    print(f\"¡Hola {nombre}!\")\n",
    "\n",
    "saludar_persona(\"Ana\")"
   ]
  },
  {
   "cell_type": "markdown",
   "id": "c8539696",
   "metadata": {},
   "source": [
    "## Ejercicio 3\n",
    "\n",
    "Escribir una función que tome dos números y devuelva el mayor de los dos."
   ]
  },
  {
   "cell_type": "code",
   "execution_count": null,
   "id": "eba77f13",
   "metadata": {},
   "outputs": [],
   "source": [
    "def mayor(a, b):\n",
    "    return a if a > b else b\n",
    "\n",
    "print(mayor(5, 8))\n",
    "print(mayor(10, 3))"
   ]
  },
  {
   "cell_type": "markdown",
   "id": "01348255",
   "metadata": {},
   "source": [
    "## Ejercicio 4\n",
    "\n",
    "Escribir una función que calcule el área de un círculo y otra que calcule el volumen de un cilindro usando la primera función."
   ]
  },
  {
   "cell_type": "code",
   "execution_count": null,
   "id": "71db8256",
   "metadata": {},
   "outputs": [],
   "source": [
    "import math\n",
    "\n",
    "def area_circulo(radio):\n",
    "    return math.pi * radio ** 2\n",
    "\n",
    "def volumen_cilindro(radio, altura):\n",
    "    return area_circulo(radio) * altura\n",
    "\n",
    "print(f\"Área del círculo (radio 3): {area_circulo(3):.2f}\")\n",
    "print(f\"Volumen del cilindro (radio 3, altura 5): {volumen_cilindro(3, 5):.2f}\")"
   ]
  },
  {
   "cell_type": "markdown",
   "id": "3b497fb3",
   "metadata": {},
   "source": [
    "## Ejercicio 5\n",
    "\n",
    "Escribir una función que reciba un número entero positivo y devuelva su factorial."
   ]
  },
  {
   "cell_type": "code",
   "execution_count": null,
   "id": "d127f696",
   "metadata": {},
   "outputs": [],
   "source": [
    "def factorial(n):\n",
    "    if n == 0 or n == 1:\n",
    "        return 1\n",
    "    else:\n",
    "        resultado = 1\n",
    "        for i in range(2, n + 1):\n",
    "            resultado *= i\n",
    "        return resultado\n",
    "\n",
    "print(f\"Factorial de 5: {factorial(5)}\")\n",
    "print(f\"Factorial de 0: {factorial(0)}\")\n",
    "print(f\"Factorial de 7: {factorial(7)}\")"
   ]
  },
  {
   "cell_type": "markdown",
   "id": "a3cec4b4",
   "metadata": {},
   "source": [
    "## Ejercicio 6\n",
    "\n",
    "Escribir una función que determine si un número es primo o no."
   ]
  },
  {
   "cell_type": "code",
   "execution_count": null,
   "id": "dff120f2",
   "metadata": {},
   "outputs": [],
   "source": [
    "def es_primo(n):\n",
    "    if n < 2:\n",
    "        return False\n",
    "    for i in range(2, int(n ** 0.5) + 1):\n",
    "        if n % i == 0:\n",
    "            return False\n",
    "    return True\n",
    "\n",
    "print(f\"¿Es 17 primo? {es_primo(17)}\")\n",
    "print(f\"¿Es 15 primo? {es_primo(15)}\")\n",
    "print(f\"¿Es 2 primo? {es_primo(2)}\")\n",
    "print(f\"¿Es 1 primo? {es_primo(1)}\")"
   ]
  },
  {
   "cell_type": "markdown",
   "id": "ea21c515",
   "metadata": {},
   "source": [
    "## Ejercicio 7\n",
    "\n",
    "Escribir una función que reciba una lista de números y devuelva la suma de todos los elementos."
   ]
  },
  {
   "cell_type": "code",
   "execution_count": null,
   "id": "6e9c3e65",
   "metadata": {},
   "outputs": [],
   "source": [
    "def suma_lista(numeros):\n",
    "    total = 0\n",
    "    for numero in numeros:\n",
    "        total += numero\n",
    "    return total\n",
    "\n",
    "lista_ejemplo = [1, 2, 3, 4, 5]\n",
    "print(f\"Suma de {lista_ejemplo}: {suma_lista(lista_ejemplo)}\")\n",
    "\n",
    "lista_ejemplo2 = [10, -5, 15, 20]\n",
    "print(f\"Suma de {lista_ejemplo2}: {suma_lista(lista_ejemplo2)}\")"
   ]
  },
  {
   "cell_type": "markdown",
   "id": "535c84b7",
   "metadata": {},
   "source": [
    "## Ejercicio 8\n",
    "\n",
    "Escribir una función que reciba una cadena de texto y devuelva el número de vocales que contiene."
   ]
  },
  {
   "cell_type": "code",
   "execution_count": null,
   "id": "c9c0d2b0",
   "metadata": {},
   "outputs": [],
   "source": [
    "def contar_vocales(texto):\n",
    "    vocales = \"aeiouAEIOU\"\n",
    "    contador = 0\n",
    "    for caracter in texto:\n",
    "        if caracter in vocales:\n",
    "            contador += 1\n",
    "    return contador\n",
    "\n",
    "frase = \"Hola mundo\"\n",
    "print(f\"La frase '{frase}' tiene {contar_vocales(frase)} vocales\")\n",
    "\n",
    "frase2 = \"Python es genial\"\n",
    "print(f\"La frase '{frase2}' tiene {contar_vocales(frase2)} vocales\")"
   ]
  },
  {
   "cell_type": "markdown",
   "id": "a49eacfd",
   "metadata": {},
   "source": [
    "## Ejercicio 9\n",
    "\n",
    "Escribir una función que reciba una lista de números y devuelva una nueva lista con los números pares únicamente."
   ]
  },
  {
   "cell_type": "code",
   "execution_count": null,
   "id": "8f557b3f",
   "metadata": {},
   "outputs": [],
   "source": [
    "def filtrar_pares(numeros):\n",
    "    pares = []\n",
    "    for numero in numeros:\n",
    "        if numero % 2 == 0:\n",
    "            pares.append(numero)\n",
    "    return pares\n",
    "\n",
    "lista_mixta = [1, 2, 3, 4, 5, 6, 7, 8, 9, 10]\n",
    "print(f\"Lista original: {lista_mixta}\")\n",
    "print(f\"Números pares: {filtrar_pares(lista_mixta)}\")\n",
    "\n",
    "lista_mixta2 = [15, 22, 33, 44, 55, 66]\n",
    "print(f\"Lista original: {lista_mixta2}\")\n",
    "print(f\"Números pares: {filtrar_pares(lista_mixta2)}\")"
   ]
  },
  {
   "cell_type": "markdown",
   "id": "d85d5e84",
   "metadata": {},
   "source": [
    "## Ejercicio 10\n",
    "\n",
    "Escribir una función que calcule la potencia de un número (base elevado a exponente) sin usar el operador **."
   ]
  },
  {
   "cell_type": "code",
   "execution_count": null,
   "id": "b9afe339",
   "metadata": {},
   "outputs": [],
   "source": [
    "def potencia(base, exponente):\n",
    "    if exponente == 0:\n",
    "        return 1\n",
    "    elif exponente < 0:\n",
    "        return 1 / potencia(base, -exponente)\n",
    "    else:\n",
    "        resultado = 1\n",
    "        for i in range(exponente):\n",
    "            resultado *= base\n",
    "        return resultado\n",
    "\n",
    "print(f\"2^3 = {potencia(2, 3)}\")\n",
    "print(f\"5^0 = {potencia(5, 0)}\")\n",
    "print(f\"3^4 = {potencia(3, 4)}\")\n",
    "print(f\"2^-3 = {potencia(2, -3)}\")"
   ]
  },
  {
   "cell_type": "markdown",
   "id": "19789ba2",
   "metadata": {},
   "source": [
    "## Ejercicio 11\n",
    "\n",
    "Escribir una función que reciba una lista de palabras y devuelva un diccionario con el número de caracteres de cada palabra."
   ]
  },
  {
   "cell_type": "code",
   "execution_count": null,
   "id": "5bc5556e",
   "metadata": {},
   "outputs": [],
   "source": [
    "def contar_caracteres(palabras):\n",
    "    diccionario = {}\n",
    "    for palabra in palabras:\n",
    "        diccionario[palabra] = len(palabra)\n",
    "    return diccionario\n",
    "\n",
    "lista_palabras = [\"Python\", \"programacion\", \"funciones\", \"codigo\"]\n",
    "resultado = contar_caracteres(lista_palabras)\n",
    "print(\"Diccionario con el número de caracteres:\")\n",
    "for palabra, cantidad in resultado.items():\n",
    "    print(f\"'{palabra}': {cantidad} caracteres\")"
   ]
  }
 ],
 "metadata": {
  "language_info": {
   "name": "python"
  }
 },
 "nbformat": 4,
 "nbformat_minor": 5
}
