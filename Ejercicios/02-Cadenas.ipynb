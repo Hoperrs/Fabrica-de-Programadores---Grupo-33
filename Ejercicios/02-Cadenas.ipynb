{
 "cells": [
  {
   "cell_type": "markdown",
   "id": "75a197ee",
   "metadata": {},
   "source": [
    "# Ejercicios de Cadenas\n",
    "\n",
    "Esta colección contiene ejercicios para practicar el manejo de cadenas de texto en Python."
   ]
  },
  {
   "cell_type": "markdown",
   "id": "c609fea4",
   "metadata": {},
   "source": [
    "## Ejercicio 1\n",
    "\n",
    "Escribir un programa que pregunte el nombre del usuario en la consola y un número entero e imprima por pantalla en líneas distintas el nombre del usuario tantas veces como el número introducido."
   ]
  },
  {
   "cell_type": "code",
   "execution_count": null,
   "id": "748f5719",
   "metadata": {},
   "outputs": [],
   "source": [
    "nombre = input(\"Introduce tu nombre: \")\n",
    "numero = int(input(\"Introduce un número entero: \"))\n",
    "for i in range(numero):\n",
    "    print(nombre)"
   ]
  },
  {
   "cell_type": "markdown",
   "id": "a212511d",
   "metadata": {},
   "source": [
    "## Ejercicio 2\n",
    "\n",
    "Escribir un programa que pregunte el nombre completo del usuario en la consola y después muestre por pantalla el nombre completo del usuario tres veces, una con todas las letras minúsculas, otra con todas las letras mayúsculas y otra solo con la primera letra del nombre y de los apellidos en mayúscula. El usuario puede introducir su nombre combinando mayúsculas y minúsculas como quiera."
   ]
  },
  {
   "cell_type": "code",
   "execution_count": null,
   "id": "5820ed03",
   "metadata": {},
   "outputs": [],
   "source": [
    "nombre_completo = input(\"Introduce tu nombre completo: \")\n",
    "print(nombre_completo.lower())\n",
    "print(nombre_completo.upper())\n",
    "print(nombre_completo.title())"
   ]
  },
  {
   "cell_type": "markdown",
   "id": "207e0e5a",
   "metadata": {},
   "source": [
    "## Ejercicio 3\n",
    "\n",
    "Escribir un programa que pregunte el nombre del usuario en la consola y después de que el usuario lo introduzca muestre por pantalla `<NOMBRE>` tiene `<n>` letras, donde `<NOMBRE>` es el nombre de usuario en mayúsculas y `<n>` es el número de letras que tienen el nombre."
   ]
  },
  {
   "cell_type": "code",
   "execution_count": null,
   "id": "c48e53b9",
   "metadata": {},
   "outputs": [],
   "source": [
    "nombre = input(\"Introduce tu nombre: \")\n",
    "print(f\"{nombre.upper()} tiene {len(nombre)} letras\")"
   ]
  },
  {
   "cell_type": "markdown",
   "id": "16d68580",
   "metadata": {},
   "source": [
    "## Ejercicio 4\n",
    "\n",
    "Los teléfonos de una empresa tienen el siguiente formato prefijo-número-extension donde el prefijo es el código del país +34, y la extensión tiene dos dígitos (por ejemplo +34-913724710-56). Escribir un programa que pregunte por un número de teléfono con este formato y muestre por pantalla el número de teléfono sin el prefijo y la extensión."
   ]
  },
  {
   "cell_type": "code",
   "execution_count": null,
   "id": "1522a39e",
   "metadata": {},
   "outputs": [],
   "source": [
    "telefono = input(\"Introduce un número de teléfono (+34-número-extensión): \")\n",
    "partes = telefono.split(\"-\")\n",
    "numero_sin_prefijo_extension = partes[1]\n",
    "print(f\"El número de teléfono sin prefijo y extensión es: {numero_sin_prefijo_extension}\")"
   ]
  },
  {
   "cell_type": "markdown",
   "id": "ff759027",
   "metadata": {},
   "source": [
    "## Ejercicio 5\n",
    "\n",
    "Escribir un programa que pida al usuario que introduzca una frase en la consola y muestre por pantalla la frase invertida."
   ]
  },
  {
   "cell_type": "code",
   "execution_count": null,
   "id": "c9f6bdac",
   "metadata": {},
   "outputs": [],
   "source": [
    "frase = input(\"Introduce una frase: \")\n",
    "frase_invertida = frase[::-1]\n",
    "print(f\"La frase invertida es: {frase_invertida}\")"
   ]
  },
  {
   "cell_type": "markdown",
   "id": "cac66644",
   "metadata": {},
   "source": [
    "## Ejercicio 6\n",
    "\n",
    "Escribir un programa que pida al usuario que introduzca una frase en la consola y una vocal, y después muestre por pantalla la misma frase pero con la vocal introducida en mayúscula."
   ]
  },
  {
   "cell_type": "code",
   "execution_count": null,
   "id": "b4457977",
   "metadata": {},
   "outputs": [],
   "source": [
    "frase = input(\"Introduce una frase: \")\n",
    "vocal = input(\"Introduce una vocal: \")\n",
    "frase_modificada = frase.replace(vocal.lower(), vocal.upper()).replace(vocal.upper(), vocal.upper())\n",
    "print(frase_modificada)"
   ]
  },
  {
   "cell_type": "markdown",
   "id": "29c888c0",
   "metadata": {},
   "source": [
    "## Ejercicio 7\n",
    "\n",
    "Escribir un programa que pregunte el correo electrónico del usuario en la consola y muestre por pantalla otro correo electrónico con el mismo nombre (la parte delante de la arroba @) pero con dominio ceu.es."
   ]
  },
  {
   "cell_type": "code",
   "execution_count": null,
   "id": "32c7e6dc",
   "metadata": {},
   "outputs": [],
   "source": [
    "correo = input(\"Introduce tu correo electrónico: \")\n",
    "nombre_usuario = correo.split(\"@\")[0]\n",
    "nuevo_correo = nombre_usuario + \"@ceu.es\"\n",
    "print(f\"Tu nuevo correo es: {nuevo_correo}\")"
   ]
  },
  {
   "cell_type": "markdown",
   "id": "d5e3cba6",
   "metadata": {},
   "source": [
    "## Ejercicio 8\n",
    "\n",
    "Escribir un programa que pregunte por consola el precio de un producto en euros con dos decimales y muestre por pantalla el número de euros y el número de céntimos del precio introducido."
   ]
  },
  {
   "cell_type": "code",
   "execution_count": null,
   "id": "4a7650fc",
   "metadata": {},
   "outputs": [],
   "source": [
    "precio = input(\"Introduce el precio del producto (ej: 12.45): \")\n",
    "partes = precio.split(\".\")\n",
    "euros = partes[0]\n",
    "centimos = partes[1]\n",
    "print(f\"Euros: {euros}\")\n",
    "print(f\"Céntimos: {centimos}\")"
   ]
  },
  {
   "cell_type": "markdown",
   "id": "0f4a3aff",
   "metadata": {},
   "source": [
    "## Ejercicio 9\n",
    "\n",
    "Escribir un programa que pregunte al usuario la fecha de su nacimiento en formato dd/mm/aaaa y muestra por pantalla, el día, el mes y el año. Adaptar el programa anterior para que también funcione cuando el día o el mes se introduzcan con un solo carácter."
   ]
  },
  {
   "cell_type": "code",
   "execution_count": null,
   "id": "cfbbdf35",
   "metadata": {},
   "outputs": [],
   "source": [
    "fecha = input(\"Introduce tu fecha de nacimiento (dd/mm/aaaa): \")\n",
    "partes = fecha.split(\"/\")\n",
    "dia = partes[0]\n",
    "mes = partes[1] \n",
    "año = partes[2]\n",
    "print(f\"Día: {dia}\")\n",
    "print(f\"Mes: {mes}\")\n",
    "print(f\"Año: {año}\")"
   ]
  },
  {
   "cell_type": "markdown",
   "id": "3a8fa04a",
   "metadata": {},
   "source": [
    "## Ejercicio 10\n",
    "\n",
    "Escribir un programa que pregunte por consola por los productos de una cesta de la compra, separados por comas, y muestre por pantalla cada uno de los productos en una línea distinta."
   ]
  },
  {
   "cell_type": "code",
   "execution_count": null,
   "id": "5aeb9bc6",
   "metadata": {},
   "outputs": [],
   "source": [
    "productos = input(\"Introduce los productos separados por comas: \")\n",
    "lista_productos = productos.split(\",\")\n",
    "for producto in lista_productos:\n",
    "    print(producto.strip())"
   ]
  },
  {
   "cell_type": "markdown",
   "id": "d9c5328f",
   "metadata": {},
   "source": [
    "## Ejercicio 11\n",
    "\n",
    "Escribir un programa que pregunte el nombre el un producto, su precio y un número de unidades y muestre por pantalla una cadena con el nombre del producto seguido de su precio unitario con 6 dígitos enteros y 2 decimales, el número de unidades con tres dígitos y el coste total con 8 dígitos enteros y 2 decimales."
   ]
  },
  {
   "cell_type": "code",
   "execution_count": null,
   "id": "ec77f707",
   "metadata": {},
   "outputs": [],
   "source": [
    "nombre_producto = input(\"Introduce el nombre del producto: \")\n",
    "precio_unitario = float(input(\"Introduce el precio unitario: \"))\n",
    "unidades = int(input(\"Introduce el número de unidades: \"))\n",
    "coste_total = precio_unitario * unidades\n",
    "\n",
    "print(f\"{nombre_producto} {precio_unitario:08.2f} {unidades:03d} {coste_total:010.2f}\")"
   ]
  },
  {
   "cell_type": "markdown",
   "id": "edbff60c",
   "metadata": {},
   "source": [
    "## Ejercicio 12\n",
    "\n",
    "Escribir un programa que pida ingresar una palabra o cadena de texto y te diga cuantas vocales de cada tipo tiene lo ingresado."
   ]
  },
  {
   "cell_type": "code",
   "execution_count": null,
   "id": "324269b4",
   "metadata": {},
   "outputs": [],
   "source": [
    "cadena_de_texto = input(\"Introduce una palabra o cadena texto: \")\n",
    "vocales = ['a', 'e', 'i', 'o', 'u']\n",
    "\n",
    "for vocal in vocales:\n",
    "    print(f\"La vocal '{vocal}' se repite: {cadena_de_texto.count(vocal)}\")"
   ]
  }
 ],
 "metadata": {
  "language_info": {
   "name": "python"
  }
 },
 "nbformat": 4,
 "nbformat_minor": 5
}
