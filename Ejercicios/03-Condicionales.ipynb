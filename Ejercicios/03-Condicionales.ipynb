{
 "cells": [
  {
   "cell_type": "markdown",
   "id": "e7dff7f8",
   "metadata": {},
   "source": [
    "# Ejercicios de Condicionales\n",
    "\n",
    "Esta colección contiene ejercicios para practicar las estructuras condicionales en Python."
   ]
  },
  {
   "cell_type": "markdown",
   "id": "862211f4",
   "metadata": {},
   "source": [
    "## Ejercicio 1\n",
    "\n",
    "Escribir un programa que pregunte al usuario su edad y muestre por pantalla si es mayor de edad o no."
   ]
  },
  {
   "cell_type": "code",
   "execution_count": null,
   "id": "eb407746",
   "metadata": {},
   "outputs": [],
   "source": [
    "edad = int(input(\"Introduce tu edad: \"))\n",
    "if edad >= 18:\n",
    "    print(\"Eres mayor de edad\")\n",
    "else:\n",
    "    print(\"Eres menor de edad\")"
   ]
  },
  {
   "cell_type": "markdown",
   "id": "411e8a56",
   "metadata": {},
   "source": [
    "## Ejercicio 2\n",
    "\n",
    "Escribir un programa que almacene la cadena de caracteres contraseña en una variable, pregunte al usuario por la contraseña e imprima por pantalla si la contraseña introducida por el usuario coincide con la guardada en la variable sin tener en cuenta mayúsculas y minúsculas."
   ]
  },
  {
   "cell_type": "code",
   "execution_count": null,
   "id": "c459a8a5",
   "metadata": {},
   "outputs": [],
   "source": [
    "contraseña_correcta = \"contraseña\"\n",
    "contraseña_usuario = input(\"Introduce la contraseña: \")\n",
    "if contraseña_usuario.lower() == contraseña_correcta.lower():\n",
    "    print(\"La contraseña es correcta\")\n",
    "else:\n",
    "    print(\"La contraseña es incorrecta\")"
   ]
  },
  {
   "cell_type": "markdown",
   "id": "365aab6e",
   "metadata": {},
   "source": [
    "## Ejercicio 3\n",
    "\n",
    "Escribir un programa que pida al usuario dos números y muestre por pantalla su división. Si el divisor es cero el programa debe mostrar un error."
   ]
  },
  {
   "cell_type": "code",
   "execution_count": null,
   "id": "c6fa4bf3",
   "metadata": {},
   "outputs": [],
   "source": [
    "dividendo = float(input(\"Introduce el primer número (dividendo): \"))\n",
    "divisor = float(input(\"Introduce el segundo número (divisor): \"))\n",
    "if divisor != 0:\n",
    "    resultado = dividendo / divisor\n",
    "    print(f\"El resultado de la división es: {resultado}\")\n",
    "else:\n",
    "    print(\"Error: No se puede dividir por cero\")"
   ]
  },
  {
   "cell_type": "markdown",
   "id": "31c6c75e",
   "metadata": {},
   "source": [
    "## Ejercicio 4\n",
    "\n",
    "Escribir un programa que pida al usuario un número entero y muestre por pantalla si es par o impar."
   ]
  },
  {
   "cell_type": "code",
   "execution_count": null,
   "id": "ed533125",
   "metadata": {},
   "outputs": [],
   "source": [
    "numero = int(input(\"Introduce un número entero: \"))\n",
    "if numero % 2 == 0:\n",
    "    print(\"El número es par\")\n",
    "else:\n",
    "    print(\"El número es impar\")"
   ]
  },
  {
   "cell_type": "markdown",
   "id": "b29527ef",
   "metadata": {},
   "source": [
    "## Ejercicio 5\n",
    "\n",
    "Para tributar un determinado impuesto se debe ser mayor de 16 años y tener unos ingresos iguales o superiores a 1000 € mensuales. Escribir un programa que pregunte al usuario su edad y sus ingresos mensuales y muestre por pantalla si el usuario tiene que tributar o no."
   ]
  },
  {
   "cell_type": "code",
   "execution_count": null,
   "id": "9b62fcba",
   "metadata": {},
   "outputs": [],
   "source": [
    "edad = int(input(\"Introduce tu edad: \"))\n",
    "ingresos = float(input(\"Introduce tus ingresos mensuales: \"))\n",
    "if edad > 16 and ingresos >= 1000:\n",
    "    print(\"Tienes que tributar\")\n",
    "else:\n",
    "    print(\"No tienes que tributar\")"
   ]
  },
  {
   "cell_type": "markdown",
   "id": "3b57bf0e",
   "metadata": {},
   "source": [
    "## Ejercicio 6\n",
    "\n",
    "Los alumnos de un curso se han dividido en dos grupos A y B de acuerdo al sexo y el nombre. El grupo A esta formado por las mujeres con un nombre anterior a la M y los hombres con un nombre posterior a la N y el grupo B por el resto. Escribir un programa que pregunte al usuario su nombre y sexo, y muestre por pantalla el grupo que le corresponde."
   ]
  },
  {
   "cell_type": "code",
   "execution_count": null,
   "id": "5dedb7b7",
   "metadata": {},
   "outputs": [],
   "source": [
    "nombre = input(\"Introduce tu nombre: \").upper()\n",
    "sexo = input(\"Introduce tu sexo (M/H): \").upper()\n",
    "primera_letra = nombre[0]\n",
    "\n",
    "if (sexo == \"M\" and primera_letra < \"M\") or (sexo == \"H\" and primera_letra > \"N\"):\n",
    "    print(\"Perteneces al grupo A\")\n",
    "else:\n",
    "    print(\"Perteneces al grupo B\")"
   ]
  },
  {
   "cell_type": "markdown",
   "id": "25527051",
   "metadata": {},
   "source": [
    "## Ejercicio 7\n",
    "\n",
    "Los tramos impositivos para la declaración de la renta en un determinado país son los siguientes:\n",
    "\n",
    "| Renta | Tipo impositivo |\n",
    "|-------|----------------|\n",
    "| Menos de 10000€ | 5% |\n",
    "| Entre 10000€ y 20000€ | 15% |\n",
    "| Entre 20000€ y 35000€ | 20% |\n",
    "| Entre 35000€ y 60000€ | 30% |\n",
    "| Más de 60000€ | 45% |\n",
    "\n",
    "Escribir un programa que pregunte al usuario su renta anual y muestre por pantalla el tipo impositivo que le corresponde."
   ]
  },
  {
   "cell_type": "code",
   "execution_count": null,
   "id": "b05b555d",
   "metadata": {},
   "outputs": [],
   "source": [
    "renta = float(input(\"Introduce tu renta anual: \"))\n",
    "if renta < 10000:\n",
    "    print(\"Tu tipo impositivo es del 5%\")\n",
    "elif renta < 20000:\n",
    "    print(\"Tu tipo impositivo es del 15%\")\n",
    "elif renta < 35000:\n",
    "    print(\"Tu tipo impositivo es del 20%\")\n",
    "elif renta < 60000:\n",
    "    print(\"Tu tipo impositivo es del 30%\")\n",
    "else:\n",
    "    print(\"Tu tipo impositivo es del 45%\")"
   ]
  },
  {
   "cell_type": "markdown",
   "id": "ae780303",
   "metadata": {},
   "source": [
    "## Ejercicio 8\n",
    "\n",
    "En una determinada empresa, sus empleados son evaluados al final de cada año. Los puntos que pueden obtener en la evaluación comienzan en 0.0 y pueden ir aumentando, traduciéndose en mejores beneficios. Los puntos que pueden conseguir los empleados pueden ser 0.0, 0.4, 0.6 o más, pero no valores intermedios entre las cifras mencionadas. A continuación se muestra una tabla con los niveles correspondientes a cada puntuación. La cantidad de dinero conseguida en cada nivel es de 2.400€ multiplicada por la puntuación del nivel.\n",
    "\n",
    "| Nivel | Puntuación |\n",
    "|-------|------------|\n",
    "| Inaceptable | 0.0 |\n",
    "| Aceptable | 0.4 |\n",
    "| Meritorio | 0.6 o más |\n",
    "\n",
    "Escribir un programa que lea la puntuación del usuario e indique su nivel de rendimiento, así como la cantidad de dinero que recibirá el usuario."
   ]
  },
  {
   "cell_type": "code",
   "execution_count": null,
   "id": "3c0cbe6c",
   "metadata": {},
   "outputs": [],
   "source": [
    "puntuacion = float(input(\"Introduce tu puntuación: \"))\n",
    "dinero = puntuacion * 2400\n",
    "\n",
    "if puntuacion == 0.0:\n",
    "    nivel = \"Inaceptable\"\n",
    "elif puntuacion == 0.4:\n",
    "    nivel = \"Aceptable\"\n",
    "elif puntuacion >= 0.6:\n",
    "    nivel = \"Meritorio\"\n",
    "else:\n",
    "    nivel = \"Puntuación no válida\"\n",
    "    dinero = 0\n",
    "\n",
    "print(f\"Tu nivel de rendimiento es: {nivel}\")\n",
    "print(f\"Recibirás: {dinero}€\")"
   ]
  },
  {
   "cell_type": "markdown",
   "id": "7ccb7f8b",
   "metadata": {},
   "source": [
    "## Ejercicio 9\n",
    "\n",
    "Escribir un programa para una empresa que tiene salas de juegos para todas las edades y quiere calcular de forma automática el precio que debe cobrar a sus clientes por entrar. El programa debe preguntar al usuario la edad del cliente y mostrar el precio de la entrada. Si el cliente es menor de 4 años puede entrar gratis, si tiene entre 4 y 18 años debe pagar 5€ y si es mayor de 18 años, 10€."
   ]
  },
  {
   "cell_type": "code",
   "execution_count": null,
   "id": "b0012f45",
   "metadata": {},
   "outputs": [],
   "source": [
    "edad = int(input(\"Introduce la edad del cliente: \"))\n",
    "if edad < 4:\n",
    "    precio = 0\n",
    "    print(\"Entrada gratuita\")\n",
    "elif edad <= 18:\n",
    "    precio = 5\n",
    "    print(f\"El precio de la entrada es: {precio}€\")\n",
    "else:\n",
    "    precio = 10\n",
    "    print(f\"El precio de la entrada es: {precio}€\")"
   ]
  },
  {
   "cell_type": "markdown",
   "id": "b06012fe",
   "metadata": {},
   "source": [
    "## Ejercicio 10\n",
    "\n",
    "La pizzería Bella Napoli ofrece pizzas vegetarianas y no vegetarianas a sus clientes. Los ingredientes para cada tipo de pizza aparecen a continuación:\n",
    "\n",
    "- **Ingredientes vegetarianos:** Pimiento y tofu.\n",
    "- **Ingredientes no vegetarianos:** Peperoni, Jamón y Salmón.\n",
    "\n",
    "Escribir un programa que pregunte al usuario si quiere una pizza vegetariana o no, y en función de su respuesta le muestre un menú con los ingredientes disponibles para que elija. Solo se puede eligir un ingrediente además de la mozzarella y el tomate que están en todas la pizzas. Al final se debe mostrar por pantalla si la pizza elegida es vegetariana o no y todos los ingredientes que lleva."
   ]
  },
  {
   "cell_type": "code",
   "execution_count": null,
   "id": "5123d5e0",
   "metadata": {},
   "outputs": [],
   "source": [
    "tipo_pizza = input(\"¿Quieres una pizza vegetariana? (si/no): \").lower()\n",
    "ingredientes_base = [\"mozzarella\", \"tomate\"]\n",
    "\n",
    "if tipo_pizza == \"si\":\n",
    "    print(\"Ingredientes vegetarianos disponibles:\")\n",
    "    print(\"1. Pimiento\")\n",
    "    print(\"2. Tofu\")\n",
    "    opcion = input(\"Elige un ingrediente (1 o 2): \")\n",
    "    if opcion == \"1\":\n",
    "        ingrediente_elegido = \"pimiento\"\n",
    "    elif opcion == \"2\":\n",
    "        ingrediente_elegido = \"tofu\"\n",
    "    else:\n",
    "        ingrediente_elegido = \"pimiento\"\n",
    "    \n",
    "    print(\"Has elegido una pizza vegetariana\")\n",
    "    print(f\"Ingredientes: {', '.join(ingredientes_base)}, {ingrediente_elegido}\")\n",
    "else:\n",
    "    print(\"Ingredientes no vegetarianos disponibles:\")\n",
    "    print(\"1. Peperoni\")\n",
    "    print(\"2. Jamón\")\n",
    "    print(\"3. Salmón\")\n",
    "    opcion = input(\"Elige un ingrediente (1, 2 o 3): \")\n",
    "    if opcion == \"1\":\n",
    "        ingrediente_elegido = \"peperoni\"\n",
    "    elif opcion == \"2\":\n",
    "        ingrediente_elegido = \"jamón\"\n",
    "    elif opcion == \"3\":\n",
    "        ingrediente_elegido = \"salmón\"\n",
    "    else:\n",
    "        ingrediente_elegido = \"peperoni\"\n",
    "    \n",
    "    print(\"Has elegido una pizza no vegetariana\")\n",
    "    print(f\"Ingredientes: {', '.join(ingredientes_base)}, {ingrediente_elegido}\")"
   ]
  }
 ],
 "metadata": {
  "language_info": {
   "name": "python"
  }
 },
 "nbformat": 4,
 "nbformat_minor": 5
}
