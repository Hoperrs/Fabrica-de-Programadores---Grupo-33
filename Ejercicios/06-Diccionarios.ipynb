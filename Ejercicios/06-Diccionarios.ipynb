{
 "cells": [
  {
   "cell_type": "markdown",
   "id": "ad3f5a12",
   "metadata": {},
   "source": [
    "# Ejercicios de Diccionarios\n",
    "\n",
    "Esta colección contiene ejercicios para practicar el manejo de diccionarios en Python."
   ]
  },
  {
   "cell_type": "markdown",
   "id": "22f4e1a4",
   "metadata": {},
   "source": [
    "## Ejercicio 1\n",
    "\n",
    "Escribir un programa que guarde en una variable el diccionario {'Euro':'€', 'Dollar':'$', 'Yen':'¥'}, pregunte al usuario por una divisa y muestre su símbolo o un mensaje de aviso si la divisa no está en el diccionario."
   ]
  },
  {
   "cell_type": "code",
   "execution_count": null,
   "id": "6b791244",
   "metadata": {},
   "outputs": [],
   "source": [
    "divisas = {'Euro':'€', 'Dollar':'$', 'Yen':'¥'}\n",
    "divisa = input(\"Introduce una divisa: \")\n",
    "if divisa in divisas:\n",
    "    print(f\"El símbolo de {divisa} es {divisas[divisa]}\")\n",
    "else:\n",
    "    print(\"La divisa no está en el diccionario\")"
   ]
  },
  {
   "cell_type": "markdown",
   "id": "35745b24",
   "metadata": {},
   "source": [
    "## Ejercicio 2\n",
    "\n",
    "Escribir un programa que pregunte al usuario su nombre, edad, dirección y teléfono y lo guarde en un diccionario. Después debe mostrar por pantalla el mensaje `<nombre>` tiene `<edad>` años, vive en `<dirección>` y su número de teléfono es `<teléfono>`."
   ]
  },
  {
   "cell_type": "code",
   "execution_count": null,
   "id": "a3106870",
   "metadata": {},
   "outputs": [],
   "source": [
    "persona = {}\n",
    "persona['nombre'] = input(\"Introduce tu nombre: \")\n",
    "persona['edad'] = input(\"Introduce tu edad: \")\n",
    "persona['direccion'] = input(\"Introduce tu dirección: \")\n",
    "persona['telefono'] = input(\"Introduce tu teléfono: \")\n",
    "\n",
    "print(f\"{persona['nombre']} tiene {persona['edad']} años, vive en {persona['direccion']} y su número de teléfono es {persona['telefono']}\")"
   ]
  },
  {
   "cell_type": "markdown",
   "id": "2d99431d",
   "metadata": {},
   "source": [
    "## Ejercicio 3\n",
    "\n",
    "Escribir un programa que guarde en un diccionario los precios de las frutas de la tabla, pregunte al usuario por una fruta, un número de kilos y muestre por pantalla el precio de ese número de kilos de fruta. Si la fruta no está en el diccionario debe mostrar un mensaje informando de ello.\n",
    "\n",
    "| Fruta | Precio |\n",
    "|-------|--------|\n",
    "| Plátano | 1.35 |\n",
    "| Manzana | 0.80 |\n",
    "| Pera | 0.85 |\n",
    "| Naranja | 0.70 |"
   ]
  },
  {
   "cell_type": "code",
   "execution_count": null,
   "id": "b91e497f",
   "metadata": {},
   "outputs": [],
   "source": [
    "frutas = {'Plátano': 1.35, 'Manzana': 0.80, 'Pera': 0.85, 'Naranja': 0.70}\n",
    "fruta = input(\"Introduce una fruta: \")\n",
    "if fruta in frutas:\n",
    "    kilos = float(input(\"Introduce el número de kilos: \"))\n",
    "    precio_total = frutas[fruta] * kilos\n",
    "    print(f\"{kilos} kilos de {fruta} cuestan {precio_total:.2f}€\")\n",
    "else:\n",
    "    print(\"La fruta no está disponible\")"
   ]
  },
  {
   "cell_type": "markdown",
   "id": "4a1ba645",
   "metadata": {},
   "source": [
    "## Ejercicio 4\n",
    "\n",
    "Escribir un programa que pregunte una fecha en formato dd/mm/aaaa y muestre por pantalla la misma fecha en formato dd de `<mes>` de aaaa donde `<mes>` es el nombre del mes."
   ]
  },
  {
   "cell_type": "code",
   "execution_count": null,
   "id": "84b0089c",
   "metadata": {},
   "outputs": [],
   "source": [
    "meses = {'01': 'enero', '02': 'febrero', '03': 'marzo', '04': 'abril', \n",
    "         '05': 'mayo', '06': 'junio', '07': 'julio', '08': 'agosto',\n",
    "         '09': 'septiembre', '10': 'octubre', '11': 'noviembre', '12': 'diciembre'}\n",
    "\n",
    "fecha = input(\"Introduce una fecha (dd/mm/aaaa): \")\n",
    "partes = fecha.split(\"/\")\n",
    "dia = partes[0]\n",
    "mes = partes[1]\n",
    "año = partes[2]\n",
    "\n",
    "print(f\"{dia} de {meses[mes]} de {año}\")"
   ]
  },
  {
   "cell_type": "markdown",
   "id": "e17c1358",
   "metadata": {},
   "source": [
    "## Ejercicio 5\n",
    "\n",
    "Escribir un programa que almacene el diccionario con los créditos de las asignaturas de un curso {'Matemáticas': 6, 'Física': 4, 'Química': 5} y después muestre por pantalla los créditos de cada asignatura en el formato `<asignatura>` tiene `<créditos>` créditos, donde `<asignatura>` es cada una de las asignaturas del curso, y `<créditos>` son sus créditos. Al final debe mostrar también el número total de créditos del curso."
   ]
  },
  {
   "cell_type": "code",
   "execution_count": null,
   "id": "5fddb81e",
   "metadata": {},
   "outputs": [],
   "source": [
    "asignaturas = {'Matemáticas': 6, 'Física': 4, 'Química': 5}\n",
    "total_creditos = 0\n",
    "\n",
    "for asignatura, creditos in asignaturas.items():\n",
    "    print(f\"{asignatura} tiene {creditos} créditos\")\n",
    "    total_creditos += creditos\n",
    "\n",
    "print(f\"Número total de créditos del curso: {total_creditos}\")"
   ]
  },
  {
   "cell_type": "markdown",
   "id": "52946c3c",
   "metadata": {},
   "source": [
    "## Ejercicio 6\n",
    "\n",
    "Escribir un programa que cree un diccionario vacío y lo vaya llenado con información sobre una persona (por ejemplo nombre, edad, sexo, teléfono, correo electrónico, etc.) que se le pida al usuario. Cada vez que se añada un nuevo dato debe imprimirse el contenido del diccionario."
   ]
  },
  {
   "cell_type": "code",
   "execution_count": null,
   "id": "eaf37888",
   "metadata": {},
   "outputs": [],
   "source": [
    "persona = {}\n",
    "campos = ['nombre', 'edad', 'sexo', 'teléfono', 'correo electrónico']\n",
    "\n",
    "for campo in campos:\n",
    "    valor = input(f\"Introduce {campo}: \")\n",
    "    persona[campo] = valor\n",
    "    print(persona)"
   ]
  },
  {
   "cell_type": "markdown",
   "id": "20edae83",
   "metadata": {},
   "source": [
    "## Ejercicio 7\n",
    "\n",
    "Escribir un programa que cree un diccionario simulando una cesta de la compra. El programa debe preguntar el artículo y su precio y añadir el par al diccionario, hasta que el usuario decida terminar. Después se debe mostrar por pantalla la lista de la compra y el coste total, con el siguiente formato:\n",
    "\n",
    "```\n",
    "Lista de la compra\n",
    "Artículo 1     Precio\n",
    "Artículo 2     Precio\n",
    "Artículo 3     Precio\n",
    "…              …\n",
    "Total          Coste\n",
    "```"
   ]
  },
  {
   "cell_type": "code",
   "execution_count": null,
   "id": "f1c8d95e",
   "metadata": {},
   "outputs": [],
   "source": [
    "cesta = {}\n",
    "continuar = True\n",
    "\n",
    "while continuar:\n",
    "    articulo = input(\"Introduce un artículo (o 'terminar' para finalizar): \")\n",
    "    if articulo.lower() == 'terminar':\n",
    "        continuar = False\n",
    "    else:\n",
    "        precio = float(input(f\"Introduce el precio de {articulo}: \"))\n",
    "        cesta[articulo] = precio\n",
    "\n",
    "print(\"\\nLista de la compra\")\n",
    "total = 0\n",
    "for articulo, precio in cesta.items():\n",
    "    print(f\"{articulo:<15} {precio:>8.2f}€\")\n",
    "    total += precio\n",
    "print(f\"{'Total':<15} {total:>8.2f}€\")"
   ]
  },
  {
   "cell_type": "markdown",
   "id": "9b231028",
   "metadata": {},
   "source": [
    "## Ejercicio 8\n",
    "\n",
    "Escribir un programa que cree un diccionario de traducción español-inglés. El usuario introducirá las palabras en español e inglés separadas por dos puntos, y cada par `<palabra>`:`<traducción>` separados por comas. El programa debe crear un diccionario con las palabras y sus traducciones. Después pedirá una frase en español y utilizará el diccionario para traducirla palabra a palabra. Si una palabra no está en el diccionario debe dejarla sin traducir."
   ]
  },
  {
   "cell_type": "code",
   "execution_count": null,
   "id": "b221cd40",
   "metadata": {},
   "outputs": [],
   "source": [
    "entrada = input(\"Introduce palabras en formato español:inglés separadas por comas: \")\n",
    "pares = entrada.split(\",\")\n",
    "diccionario = {}\n",
    "\n",
    "for par in pares:\n",
    "    español, ingles = par.split(\":\")\n",
    "    diccionario[español.strip()] = ingles.strip()\n",
    "\n",
    "frase = input(\"Introduce una frase en español: \")\n",
    "palabras = frase.split()\n",
    "traduccion = []\n",
    "\n",
    "for palabra in palabras:\n",
    "    if palabra in diccionario:\n",
    "        traduccion.append(diccionario[palabra])\n",
    "    else:\n",
    "        traduccion.append(palabra)\n",
    "\n",
    "print(\" \".join(traduccion))"
   ]
  },
  {
   "cell_type": "markdown",
   "id": "fc873fbd",
   "metadata": {},
   "source": [
    "## Ejercicio 9\n",
    "\n",
    "Escribir un programa que gestione las facturas pendientes de cobro de una empresa. Las facturas se almacenarán en un diccionario donde la clave de cada factura será el número de factura y el valor el coste de la factura. El programa debe preguntar al usuario si quiere añadir una nueva factura, pagar una existente o terminar. Si desea añadir una nueva factura se preguntará por el número de factura y su coste y se añadirá al diccionario. Si se desea pagar una factura se preguntará por el número de factura y se eliminará del diccionario. Después de cada operación el programa debe mostrar por pantalla la cantidad cobrada hasta el momento y la cantidad pendiente de cobro."
   ]
  },
  {
   "cell_type": "code",
   "execution_count": null,
   "id": "5a42e4ef",
   "metadata": {},
   "outputs": [],
   "source": [
    "facturas_pendientes = {}\n",
    "cantidad_cobrada = 0\n",
    "\n",
    "while True:\n",
    "    print(\"\\n1. Añadir factura\")\n",
    "    print(\"2. Pagar factura\")\n",
    "    print(\"3. Terminar\")\n",
    "    opcion = input(\"Elige una opción: \")\n",
    "    \n",
    "    if opcion == \"1\":\n",
    "        numero = input(\"Número de factura: \")\n",
    "        coste = float(input(\"Coste de la factura: \"))\n",
    "        facturas_pendientes[numero] = coste\n",
    "    elif opcion == \"2\":\n",
    "        numero = input(\"Número de factura a pagar: \")\n",
    "        if numero in facturas_pendientes:\n",
    "            cantidad_cobrada += facturas_pendientes[numero]\n",
    "            del facturas_pendientes[numero]\n",
    "        else:\n",
    "            print(\"Factura no encontrada\")\n",
    "    elif opcion == \"3\":\n",
    "        break\n",
    "    \n",
    "    pendiente = sum(facturas_pendientes.values())\n",
    "    print(f\"Cantidad cobrada: {cantidad_cobrada:.2f}€\")\n",
    "    print(f\"Cantidad pendiente: {pendiente:.2f}€\")"
   ]
  },
  {
   "cell_type": "markdown",
   "id": "299a89c7",
   "metadata": {},
   "source": [
    "## Ejercicio 10\n",
    "\n",
    "Escribir un programa que permita gestionar la base de datos de clientes de una empresa. Los clientes se guardarán en un diccionario en el que la clave de cada cliente será su NIF, y el valor será otro diccionario con los datos del cliente (nombre, dirección, teléfono, correo, preferente), donde preferente tendrá el valor True si se trata de un cliente preferente. El programa debe preguntar al usuario por una opción del siguiente menú:\n",
    "\n",
    "1. Añadir cliente\n",
    "2. Eliminar cliente\n",
    "3. Mostrar cliente\n",
    "4. Listar todos los clientes\n",
    "5. Listar clientes preferentes\n",
    "6. Terminar\n",
    "\n",
    "En función de la opción elegida el programa tendrá que hacer lo siguiente:\n",
    "- Preguntar los datos del cliente, crear un diccionario con los datos y añadirlo a la base de datos.\n",
    "- Preguntar por el NIF del cliente y eliminar sus datos de la base de datos.\n",
    "- Preguntar por el NIF del cliente y mostrar sus datos.\n",
    "- Mostrar lista de todos los clientes de la base datos con su NIF y nombre.\n",
    "- Mostrar la lista de clientes preferentes de la base de datos con su NIF y nombre.\n",
    "- Terminar el programa."
   ]
  },
  {
   "cell_type": "code",
   "execution_count": null,
   "id": "187ceb4f",
   "metadata": {},
   "outputs": [],
   "source": [
    "clientes = {}\n",
    "\n",
    "while True:\n",
    "    print(\"\\n1. Añadir cliente\")\n",
    "    print(\"2. Eliminar cliente\")\n",
    "    print(\"3. Mostrar cliente\")\n",
    "    print(\"4. Listar todos los clientes\")\n",
    "    print(\"5. Listar clientes preferentes\")\n",
    "    print(\"6. Terminar\")\n",
    "    \n",
    "    opcion = input(\"Elige una opción: \")\n",
    "    \n",
    "    if opcion == \"1\":\n",
    "        nif = input(\"NIF: \")\n",
    "        nombre = input(\"Nombre: \")\n",
    "        direccion = input(\"Dirección: \")\n",
    "        telefono = input(\"Teléfono: \")\n",
    "        correo = input(\"Correo: \")\n",
    "        preferente = input(\"¿Es preferente? (s/n): \").lower() == 's'\n",
    "        clientes[nif] = {'nombre': nombre, 'direccion': direccion, 'telefono': telefono, 'correo': correo, 'preferente': preferente}\n",
    "    \n",
    "    elif opcion == \"2\":\n",
    "        nif = input(\"NIF del cliente a eliminar: \")\n",
    "        if nif in clientes:\n",
    "            del clientes[nif]\n",
    "            print(\"Cliente eliminado\")\n",
    "        else:\n",
    "            print(\"Cliente no encontrado\")\n",
    "    \n",
    "    elif opcion == \"3\":\n",
    "        nif = input(\"NIF del cliente: \")\n",
    "        if nif in clientes:\n",
    "            cliente = clientes[nif]\n",
    "            print(f\"Nombre: {cliente['nombre']}\")\n",
    "            print(f\"Dirección: {cliente['direccion']}\")\n",
    "            print(f\"Teléfono: {cliente['telefono']}\")\n",
    "            print(f\"Correo: {cliente['correo']}\")\n",
    "            print(f\"Preferente: {'Sí' if cliente['preferente'] else 'No'}\")\n",
    "        else:\n",
    "            print(\"Cliente no encontrado\")\n",
    "    \n",
    "    elif opcion == \"4\":\n",
    "        print(\"Lista de todos los clientes:\")\n",
    "        for nif, cliente in clientes.items():\n",
    "            print(f\"{nif}: {cliente['nombre']}\")\n",
    "    \n",
    "    elif opcion == \"5\":\n",
    "        print(\"Lista de clientes preferentes:\")\n",
    "        for nif, cliente in clientes.items():\n",
    "            if cliente['preferente']:\n",
    "                print(f\"{nif}: {cliente['nombre']}\")\n",
    "    \n",
    "    elif opcion == \"6\":\n",
    "        break"
   ]
  },
  {
   "cell_type": "markdown",
   "id": "803d29ed",
   "metadata": {},
   "source": [
    "## Ejercicio 11\n",
    "\n",
    "El directorio de los clientes de una empresa está organizado en una cadena de texto como la de más abajo, donde cada línea contiene la información del nombre, email, teléfono, nif, y el descuento que se le aplica. Las líneas se separan con el carácter de cambio de línea \\n y la primera línea contiene los nombres de los campos con la información contenida en el directorio.\n",
    "\n",
    "```\n",
    "\"nif;nombre;email;teléfono;descuento\\n01234567L;Luis González;luisgonzalez@mail.com;656343576;12.5\\n71476342J;Macarena Ramírez;macarena@mail.com;692839321;8\\n63823376M;Juan José Martínez;juanjo@mail.com;664888233;5.2\\n98376547F;Carmen Sánchez;carmen@mail.com;667677855;15.7\"\n",
    "```\n",
    "\n",
    "Escribir un programa que genere un diccionario con la información del directorio, donde cada elemento corresponda a un cliente y tenga por clave su nif y por valor otro diccionario con el resto de la información del cliente. Los diccionarios con la información de cada cliente tendrán como claves los nombres de los campos y como valores la información de cada cliente correspondientes a los campos.\n",
    "\n",
    "Es decir, un diccionario como el siguiente:\n",
    "\n",
    "```python\n",
    "{'01234567L': {'nombre': 'Luis González', 'email': 'luisgonzalez@mail.com', 'teléfono': '656343576', 'descuento': 12.5}, \n",
    " '71476342J': {'nombre': 'Macarena Ramírez', 'email': 'macarena@mail.com', 'teléfono': '692839321', 'descuento': 8.0}, \n",
    " '63823376M': {'nombre': 'Juan José Martínez', 'email': 'juanjo@mail.com', 'teléfono': '664888233', 'descuento': 5.2}, \n",
    " '98376547F': {'nombre': 'Carmen Sánchez', 'email': 'carmen@mail.com', 'teléfono': '667677855', 'descuento': 15.7}}\n",
    "```"
   ]
  },
  {
   "cell_type": "code",
   "execution_count": null,
   "id": "e4a8a60a",
   "metadata": {},
   "outputs": [],
   "source": [
    "directorio = \"nif;nombre;email;teléfono;descuento\\n01234567L;Luis González;luisgonzalez@mail.com;656343576;12.5\\n71476342J;Macarena Ramírez;macarena@mail.com;692839321;8\\n63823376M;Juan José Martínez;juanjo@mail.com;664888233;5.2\\n98376547F;Carmen Sánchez;carmen@mail.com;667677855;15.7\"\n",
    "\n",
    "lineas = directorio.split('\\n')\n",
    "campos = lineas[0].split(';')\n",
    "clientes = {}\n",
    "\n",
    "for i in range(1, len(lineas)):\n",
    "    datos = lineas[i].split(';')\n",
    "    nif = datos[0]\n",
    "    cliente = {}\n",
    "    \n",
    "    for j in range(1, len(campos)):\n",
    "        if campos[j] == 'descuento':\n",
    "            cliente[campos[j]] = float(datos[j])\n",
    "        else:\n",
    "            cliente[campos[j]] = datos[j]\n",
    "    \n",
    "    clientes[nif] = cliente\n",
    "\n",
    "print(clientes)"
   ]
  }
 ],
 "metadata": {
  "language_info": {
   "name": "python"
  }
 },
 "nbformat": 4,
 "nbformat_minor": 5
}
